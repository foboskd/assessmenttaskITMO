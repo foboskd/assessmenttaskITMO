{
 "cells": [
  {
   "cell_type": "markdown",
   "id": "183fa30b",
   "metadata": {},
   "source": [
    "# Задача по классификации пульсаров"
   ]
  },
  {
   "cell_type": "markdown",
   "id": "acc804a5",
   "metadata": {},
   "source": [
    "## Описание данных\n",
    "\n",
    "### Расшифровка столбцов данных\n",
    "\n",
    "1. __Mean of the integrated profile__ (среднее значение интегрированного профиля) - является одним из параметров, используемых в анализе радиоастрономических данных, особенно в области изучения пульсаров. Интегрированный профиль представляет собой сумму амплитуд радиоимпульсов, полученных от пульсара, в течение определенного временного интервала. Среднее значение интегрированного профиля представляет собой среднюю амплитуду этих импульсов, усредненную по времени. Оно является важным статистическим показателем, который может дать представление о характеристиках пульсара, таких как его средняя интенсивность, форма импульсов и другие свойства. Среднее значение интегрированного профиля может быть использовано для идентификации и классификации пульсаров, а также для изучения их эволюции и поведения во времени.\n",
    "\n",
    "2. __Standard deviation of the integrated profile__ (стандартное отклонение интегрированного профиля) - измеряет разброс значений амплитуд радиоимпульсов в интегрированном профиле. Оно показывает, насколько значительно отдельные импульсы варьируются от среднего значения. Большое стандартное отклонение указывает на большой разброс амплитуд, тогда как маленькое стандартное отклонение указывает на меньший разброс и более однородный профиль. Стандартное отклонение интегрированного профиля может быть полезным для определения структуры и формы импульсов пульсара. Оно может также использоваться для выявления аномалий в данных или изменений в характеристиках пульсара со временем. В целом, стандартное отклонение интегрированного профиля предоставляет информацию о разбросе амплитуд импульсов и может быть полезным инструментом для изучения радиоимпульсов и свойств пульсаров.\n",
    "\n",
    "3. __Excess kurtosis of the integrated profile__ (избыточная эксцессность интегрированного профиля) - измеряет форму распределения данных и указывает на степень остроты или плоскости этого распределения. Избыточная эксцессность представляет собой отклонение эксцессности от значения, которое ожидается для нормального распределения. В контексте интегрированного профиля пульсара, избыточная эксцессность отражает форму импульсов и может быть использована для определения наличия асимметрии или необычных особенностей в данных. Положительное значение избыточной эксцессности указывает на более острые или \"тяжелохвостые\" импульсы, тогда как отрицательное значение указывает на более плоские или \"легкохвостые\" импульсы. Избыточная эксцессность интегрированного профиля может быть полезным инструментом для классификации и идентификации различных типов пульсаров, а также для обнаружения необычных или редких особенностей в данных. В целом, избыточная эксцессность интегрированного профиля предоставляет информацию о форме импульсов пульсара и может быть использована для дальнейшего изучения и анализа радиоимпульсов.\n",
    "\n",
    "4. __Skewness of the integrated profile__ (асимметрия интегрированного профиля) - измеряет степень отклонения распределения данных от симметричной формы. В контексте интегрированного профиля пульсара, асимметрия указывает на то, насколько распределение амплитуд импульсов смещено относительно среднего значения. Положительное значение асимметрии указывает на то, что \"хвост\" распределения находится справа от среднего значения, что означает, что есть больше высоких амплитудных значений. Отрицательное значение асимметрии указывает на то, что \"хвост\" распределения находится слева от среднего значения, что означает, что есть больше низких амплитудных значений. Асимметрия интегрированного профиля может быть полезной для определения формы импульсов пульсара и выявления аномалий или необычных особенностей в данных. Она может быть использована для классификации пульсаров и идентификации различных типов импульсных профилей. В целом, асимметрия интегрированного профиля предоставляет информацию о смещении распределения амплитуд импульсов относительно среднего значения и может быть полезным инструментом для изучения радиоимпульсов и их свойств.\n",
    "\n",
    "5. __Mean of the DM-SNR curve__ (среднее значение кривой DM-SNR) - это статистический показатель, который используется в анализе радиоастрономических данных, особенно при изучении пульсаров. DM-SNR кривая представляет собой график зависимости среднего значимого сигнал-шум (SNR) от дисперсии величины задержки (DM). DM (Dispersion Measure) представляет собой меру того, как сильно радиосигналы растекаются в пространстве из-за взаимодействия с плазмой в межзвездной среде. SNR (Signal-to-Noise Ratio) представляет собой отношение мощности сигнала к мощности шума. Среднее значение кривой DM-SNR представляет собой среднее значение SNR для данного значения DM на кривой. Оно показывает типичную интенсивность сигнала при определенном DM значении. Высокое среднее значение может указывать на сильный сигнал, а низкое значение может указывать на слабый или шумовой сигнал. Среднее значение кривой DM-SNR может быть полезным инструментом для анализа пульсарных сигналов и их характеристик. Оно может помочь в определении наличия пульсаров и их классификации на основе интенсивности сигнала и его отношения к шуму. В целом, среднее значение кривой DM-SNR предоставляет информацию о типичной интенсивности сигнала при определенном DM значении и может быть использовано для изучения и анализа радиоимпульсов пульсаров.\n",
    "\n",
    "6. __Standard deviation of the DM-SNR curve__ (стандартное отклонение кривой DM-SNR) - это статистический показатель, который используется в анализе радиоастрономических данных, особенно при изучении пульсаров. DM-SNR кривая представляет собой график зависимости среднего значимого сигнал-шум (SNR) от дисперсии величины задержки (DM). DM (Dispersion Measure) представляет собой меру того, как сильно радиосигналы растекаются в пространстве из-за взаимодействия с плазмой в межзвездной среде. SNR (Signal-to-Noise Ratio) представляет собой отношение мощности сигнала к мощности шума. Стандартное отклонение кривой DM-SNR показывает разброс значений SNR для каждого значения DM на кривой. Оно измеряет, насколько сильно значения SNR изменяются вокруг среднего значения на кривой. Большое стандартное отклонение указывает на большой разброс значений SNR, а маленькое отклонение указывает на меньший разброс значений. Стандартное отклонение кривой DM-SNR может быть полезным инструментом для анализа разнообразия и изменчивости сигналов на разных значениях DM. Оно может помочь в выявлении аномалий или необычных особенностей в данных, а также в определении различных типов пульсаров на основе изменчивости их сигналов. В целом, стандартное отклонение кривой DM-SNR предоставляет информацию о разбросе значений SNR на разных значениях DM и может быть использовано для изучения и анализа радиоимпульсов пульсаров.\n",
    "\n",
    "7. __Excess kurtosis of the DM-SNR curve__ (избыточный эксцесс кривой DM-SNR) - это статистическая мера, которая используется для изучения формы и распределения значений на кривой DM-SNR, особенно при анализе радиоастрономических данных, связанных с пульсарами. Куртозис - это мера остроты пика распределения данных. Он определяет, насколько данные сосредоточены вокруг среднего значения и насколько они отличаются от нормального распределения. Куртозис может быть положительным или отрицательным числом. Избыточный эксцесс - это мера, которая вычисляется путем вычитания 3 из значения куртозиса. Таким образом, избыточный эксцесс показывает отклонение куртозиса от значения 3, которое является ожидаемым для данных, имеющих нормальное распределение. Если избыточный эксцесс положителен, то это означает, что данные имеют более острую пиковую форму и более тяжелые хвосты, чем нормальное распределение. Если избыточный эксцесс отрицателен, то это указывает на более плоскую пиковую форму и более легкие хвосты, чем нормальное распределение. В контексте кривой DM-SNR, избыточный эксцесс позволяет оценить, насколько пульсарные сигналы отклоняются от нормального распределения на основе их формы и остроты пика. Эта мера может быть полезна для выявления аномалий, необычных особенностей или различных типов пульсаров на основе их распределения значений DM-SNR. Таким образом, избыточный эксцесс кривой DM-SNR предоставляет информацию о форме и распределении значений на кривой и может быть использован для анализа и классификации пульсаров на основе их характеристик распределения.\n",
    "\n",
    "8. __Skewness of the DM-SNR curve__ (асимметрия кривой DM-SNR) - это статистическая мера, которая используется для изучения симметрии или асимметрии значений на кривой DM-SNR, особенно при анализе радиоастрономических данных, связанных с пульсарами. Асимметрия - это мера отклонения распределения данных от симметричной формы. Она позволяет определить, насколько данные смещены влево или вправо относительно центральной точки распределения. Асимметрия может быть положительной или отрицательной. Асимметрия кривой DM-SNR показывает, насколько значения на кривой смещены относительно среднего значения и насколько они отличаются от симметричной формы распределения. Если асимметрия положительна, то это означает, что данные имеют более вытянутую \"хвостатую\" форму вправо и смещены вправо относительно среднего значения. Если асимметрия отрицательна, то данные имеют более вытянутую \"хвостатую\" форму влево и смещены влево относительно среднего значения. В контексте кривой DM-SNR, асимметрия позволяет определить, насколько пульсарные сигналы отклоняются от симметричной формы распределения на основе их смещения относительно среднего значения. Эта мера может быть полезна для выявления аномалий, необычных особенностей или различных типов пульсаров на основе их характеристик симметрии распределения значений DM-SNR. Таким образом, асимметрия кривой DM-SNR предоставляет информацию о симметрии или асимметрии значений на кривой и может быть использована для анализа и классификации пульсаров на основе их характеристик смещения относительно среднего значения.\n",
    "\n",
    "9. __Class__ - это значение 0/1 определяющее пренадлежность к классу\n",
    "\n",
    "### Принадлежность к типам данных\n",
    "\n",
    "Атрибуты данных от __1 до 8__, являются числовыми атрибутами. Они представляют собой различные статистические характеристики для интегрированного профиля и кривой DM-SNR. \n",
    "\n",
    "Таким образом:\n",
    "\n",
    "- Mean of the integrated profile (Среднее значение интегрированного профиля) - числовой атрибут.\n",
    "- Standard deviation of the integrated profile (Стандартное отклонение интегрированного профиля) - числовой атрибут.\n",
    "- Excess kurtosis of the integrated profile (Избыточная эксцесс интегрированного профиля) - числовой атрибут.\n",
    "- Skewness of the integrated profile (Асимметрия интегрированного профиля) - числовой атрибут.\n",
    "- Mean of the DM-SNR curve (Среднее значение кривой DM-SNR) - числовой атрибут.\n",
    "- Standard deviation of the DM-SNR curve (Стандартное отклонение кривой DM-SNR) - числовой атрибут.\n",
    "- Excess kurtosis of the DM-SNR curve (Избыточная эксцесс кривой DM-SNR) - числовой атрибут.\n",
    "- Skewness of the DM-SNR curve (Асимметрия кривой DM-SNR) - числовой атрибут.\n",
    "\n",
    "Каждый из этих атрибутов представляет числовое значение, которое описывает определенную статистическую характеристику для соответствующего профиля или кривой. _Эти атрибуты могут быть использованы для анализа и классификации данных, связанных с пульсарами или другими астрономическими явлениями._\n",
    "\n",
    "В свою очередь __атрибут 9__, который принимает значения 0 или 1 для определения принадлежности к классу, является __бинарным атрибутом__ данных. Бинарные атрибуты представляют собой категориальные переменные, которые могут принимать только два возможных значения. В данном случае, значение 0 обычно указывает на отсутствие принадлежности к классу, а значение 1 указывает на принадлежность к классу.\n",
    "\n",
    "\n",
    "# Получение данных и предварительный отбор\n",
    "\n",
    "В рамках подготовки датасета, размещенного по [Ссылке](online.ifmo.ru), необходимо было получить выборку из совокупности, которая была отобрана по следующим условиям:\n",
    "1. Все строки таблицы, где TARGET = 0 и MIP &#8712; [104.1953125, 104.5859375]\n",
    "2. Все строки таблицы, где TARGET = 1 и MIP &#8712; [5.8125, 14.1484375]\n",
    "\n",
    "Итак, выборка была получена по результату применения следующего SQL-запроса: \n",
    "```\n",
    "SELECT * \n",
    "FROM pulsar_stars \n",
    "WHERE (target = 0 AND (MIP >= 104.1953125 AND MIP <= 104.5859375)) \n",
    "OR (target = 1 AND (MIP >= 5.8125 AND MIP <= 14.1484375))\n",
    "```\n",
    "__По итогу исполнения запроса мы получили выборку содержащую 203 строки__ (файл report-3.csv)\n",
    "\n",
    "\n",
    "### Демонстрация выборки\n",
    "\n",
    "_Фрагмент кода ниже позволяет ознакомиться с содержимым файла после применения SQL-запроса_"
   ]
  },
  {
   "cell_type": "code",
   "execution_count": 64,
   "id": "f54f1f21",
   "metadata": {},
   "outputs": [],
   "source": [
    "import pandas as pd\n",
    "\n",
    "data = pd.read_csv('report-3.csv')\n",
    "pd.set_option('display.max_rows', None) # устанавливает максимальное количество строк, которые будут отображаться при выводе DataFrame, равным None, что означает, что все строки будут отображаться без ограничений\n",
    "pd.set_option('display.max_columns', None) # устанавливает максимальное количество столбцов, которые будут отображаться при выводе DataFrame, равным None, что означает, что все столбцы будут отображаться без ограничений\n",
    "\n",
    "data"
   ]
  },
  {
   "cell_type": "markdown",
   "id": "a3bbe4a0",
   "metadata": {},
   "source": [
    "### Предварительная визуализация \n",
    "\n",
    "Для того что бы визуализировать кол-во наблюдений, которые относятся к одному или другому классу столбца TARGET, напишем и запустим следующий код: "
   ]
  },
  {
   "cell_type": "code",
   "execution_count": 66,
   "id": "e7c6e8ae",
   "metadata": {},
   "outputs": [
    {
     "data": {
      "image/png": "[encoded data removed]",
      "text/plain": [
       "<Figure size 640x480 with 1 Axes>"
      ]
     },
     "metadata": {},
     "output_type": "display_data"
    }
   ],
   "source": [
    "import seaborn as sb\n",
    "sb.set_style('whitegrid')# определяем стиль отображения\n",
    "\n",
    "import matplotlib.pyplot as plt\n",
    "\n",
    "#создаем новый датафрейм для удобства работы\n",
    "vision = pd.DataFrame()\n",
    "vision['TARGET'] = data['TARGET']\n",
    "\n",
    "# вносим данные для построения столбчатого графика\n",
    "sb.countplot(x='TARGET', data=vision)\n",
    "\n",
    "# титул\n",
    "plt.title('Распределение по классам TARGET')\n",
    "\n",
    "# выводим\n",
    "plt.show()"
   ]
  },
  {
   "cell_type": "markdown",
   "id": "168ec828",
   "metadata": {},
   "source": [
    "Итого, кол-во строк относящихся к TARGET = 1, составляет 101 запись, к TARGET = 0, 102 соответсвенно. Что также можно проверить простым пересчетом используя цикл while и логическое ветвление:"
   ]
  },
  {
   "cell_type": "code",
   "execution_count": 52,
   "id": "ca6c21be",
   "metadata": {},
   "outputs": [
    {
     "name": "stdout",
     "output_type": "stream",
     "text": [
      "TARGET = 1:  101\n",
      "TARGET = 0:  102\n"
     ]
    }
   ],
   "source": [
    "i = 0\n",
    "j = 0\n",
    "h = 0\n",
    "\n",
    "while i < len(vision):\n",
    "    if vision['TARGET'][i] == 1:\n",
    "        h = h + 1\n",
    "    elif vision['TARGET'][i] == 0:\n",
    "        j = j + 1\n",
    "    i = i + 1\n",
    "        \n",
    "print('TARGET = 1: ', h)\n",
    "print('TARGET = 0: ', j)\n"
   ]
  },
  {
   "cell_type": "markdown",
   "id": "0132bf24",
   "metadata": {},
   "source": [
    "Получив данные значения, перестроим график в кругловой, для чего напишем следующий код:"
   ]
  },
  {
   "cell_type": "code",
   "execution_count": 63,
   "id": "35bf299a",
   "metadata": {},
   "outputs": [
    {
     "data": {
      "image/png": "[encoded data removed]",
      "text/plain": [
       "<Figure size 640x480 with 1 Axes>"
      ]
     },
     "metadata": {},
     "output_type": "display_data"
    }
   ],
   "source": [
    "import numpy as np #импортируем numpy для работы с массивом\n",
    "\n",
    "# Данные для круговой диаграммы\n",
    "\n",
    "sizes = np.zeros(2) #создаем массив sizes\n",
    "sizes[0] = j #добавляем значение из считалки выше\n",
    "sizes[1] = h #добавляем значение из считалки выше\n",
    "\n",
    "labels = ['0','1'] #создаем массив labels\n",
    "\n",
    "colors = ['green', 'red']  # Цвета для каждой категории\n",
    "\n",
    "# Построение круговой диаграммы\n",
    "plt.pie(sizes, labels=labels, colors=colors, autopct='%1.1f%%')\n",
    "\n",
    "# Добавление заголовка\n",
    "plt.title('Распределение по классам TARGET')\n",
    "\n",
    "# Отображение диаграммы\n",
    "plt.show()"
   ]
  },
  {
   "cell_type": "markdown",
   "id": "c47454e8",
   "metadata": {},
   "source": [
    "# Работа с данными\n",
    "\n",
    "Для дальнейшей работы с данными необходимо провести их __линейную нормировку__ по столбцам от 1 до 8. \n",
    "Что необходимо с с целью улучшения анализа данных и обеспечения согласованности между различными переменными.\n",
    "\n",
    "Формула линейной нормировки выглядит так:\n",
    "\n",
    "\n",
    "\n",
    "\n",
    "X<sub>normalized</sub> = (X<sub>i</sub> - X<sub>min</sub>) &frasl; (X<sub>max</sub> - X<sub>min</sub>)\n",
    "\n",
    "где:\n",
    "\n",
    "- X<sub>i</sub> - исходное значение переменной\n",
    "- X<sub>min</sub> - минимальное значение переменной\n",
    "- X<sub>max</sub> - максимальное значение переменной\n",
    "- X<sub>normalized</sub> - нормализованное значение переменной\n",
    "\n",
    "__Для выполнения этой задачи напишем следующий код:__\n",
    "\n",
    "_!!!важно проводем нормировку полученной выборки сразу с сохранением ее в массив training для дальнейшей удобной работы по обучению модели логистической регрессии и К-ближних соседей._"
   ]
  },
  {
   "cell_type": "code",
   "execution_count": 75,
   "id": "f4823d38",
   "metadata": {},
   "outputs": [],
   "source": [
    "#этот массив будет содержать тренировочные данные\n",
    "training = np.zeros((len(data), 8))\n",
    "\n",
    "#этот массив будет содержать отклики\n",
    "label = np.zeros((len(data),))\n",
    "\n",
    "#ниже проводим линейное нормирование всех наших столбцов предикторов\n",
    "training[:, 0] = (data['MIP'] - min(data['MIP'])) / (max(data['MIP']) - min(data['MIP']))\n",
    "training[:, 1] = (data['STDIP'] - min(data['STDIP'])) / (max(data['STDIP']) - min(data['STDIP']))\n",
    "training[:, 2] = (data['EKIP'] - min(data['EKIP'])) / (max(data['EKIP']) - min(data['EKIP']))\n",
    "training[:, 3] = (data['SIP'] - min(data['SIP'])) / (max(data['SIP']) - min(data['SIP']))\n",
    "training[:, 4] = (data['MC'] - min(data['MC'])) / (max(data['MC']) - min(data['MC']))\n",
    "training[:, 5] = (data['STDC'] - min(data['STDC'])) / (max(data['STDC']) - min(data['STDC']))\n",
    "training[:, 6] = (data['EKC'] - min(data['EKC'])) / (max(data['EKC']) - min(data['EKC']))\n",
    "training[:, 7] = (data['SC'] - min(data['SC'])) / (max(data['SC']) - min(data['SC']))\n",
    "\n",
    "#забираем из датафрейма столбец с откликами по которым ведеться классификация небесных тел в датасете\n",
    "label[:] = data['TARGET']\n"
   ]
  },
  {
   "cell_type": "markdown",
   "id": "73584ebf",
   "metadata": {},
   "source": [
    "В результате мы получили массив training, который содержит нормированные данные. Выполнение операции линейной нормировки устраняет в столбцах различия диапазонов, приводя их к одному, делая их сопоставимым. \n",
    "\n",
    "Также был получен массив label который будет содержать столбец TARGET (значение указывающее на принадлежность к 0/1)"
   ]
  },
  {
   "cell_type": "markdown",
   "id": "55f3dffb",
   "metadata": {},
   "source": [
    "# Логистическая регрессия\n",
    "\n",
    "Итак, для дальнейшей работы дадим определение понятия логистическая регрессия. __Логистическая регрессия__ - это статистический метод, используемый для моделирования зависимости между независимыми переменными (признаками) и зависимой переменной, которая принимает бинарные значения (обычно 0 и 1). Она относится к классу обобщенных линейных моделей.\n",
    "\n",
    "Основная идея логистической регрессии заключается в том, чтобы применить логистическую функцию (также известную как сигмоидная функция) к линейной комбинации признаков. Это позволяет предсказывать вероятность принадлежности наблюдения к определенному классу.\n",
    "\n",
    "Процесс обучения логистической регрессии заключается в нахождении оптимальных значений параметров модели, которые минимизируют функцию потерь (обычно используется логарифмическая функция потерь). Для этого обычно применяются методы оптимизации, такие как градиентный спуск.\n",
    "\n",
    "Логистическая регрессия __широко используется в задачах классификации__, где требуется предсказать, к какому классу относится наблюдение на основе заданных признаков.\n",
    "\n",
    "__Проведем обучение модели LogisticRegression, для обеспечения возможности классификации новых данных, для чего напишем следующий код:__"
   ]
  },
  {
   "cell_type": "code",
   "execution_count": 72,
   "id": "7736f529",
   "metadata": {},
   "outputs": [
    {
     "data": {
      "text/html": [
       "<style>#sk-container-id-2 {color: black;}#sk-container-id-2 pre{padding: 0;}#sk-container-id-2 div.sk-toggleable {background-color: white;}#sk-container-id-2 label.sk-toggleable__label {cursor: pointer;display: block;width: 100%;margin-bottom: 0;padding: 0.3em;box-sizing: border-box;text-align: center;}#sk-container-id-2 label.sk-toggleable__label-arrow:before {content: \"▸\";float: left;margin-right: 0.25em;color: #696969;}#sk-container-id-2 label.sk-toggleable__label-arrow:hover:before {color: black;}#sk-container-id-2 div.sk-estimator:hover label.sk-toggleable__label-arrow:before {color: black;}#sk-container-id-2 div.sk-toggleable__content {max-height: 0;max-width: 0;overflow: hidden;text-align: left;background-color: #f0f8ff;}#sk-container-id-2 div.sk-toggleable__content pre {margin: 0.2em;color: black;border-radius: 0.25em;background-color: #f0f8ff;}#sk-container-id-2 input.sk-toggleable__control:checked~div.sk-toggleable__content {max-height: 200px;max-width: 100%;overflow: auto;}#sk-container-id-2 input.sk-toggleable__control:checked~label.sk-toggleable__label-arrow:before {content: \"▾\";}#sk-container-id-2 div.sk-estimator input.sk-toggleable__control:checked~label.sk-toggleable__label {background-color: #d4ebff;}#sk-container-id-2 div.sk-label input.sk-toggleable__control:checked~label.sk-toggleable__label {background-color: #d4ebff;}#sk-container-id-2 input.sk-hidden--visually {border: 0;clip: rect(1px 1px 1px 1px);clip: rect(1px, 1px, 1px, 1px);height: 1px;margin: -1px;overflow: hidden;padding: 0;position: absolute;width: 1px;}#sk-container-id-2 div.sk-estimator {font-family: monospace;background-color: #f0f8ff;border: 1px dotted black;border-radius: 0.25em;box-sizing: border-box;margin-bottom: 0.5em;}#sk-container-id-2 div.sk-estimator:hover {background-color: #d4ebff;}#sk-container-id-2 div.sk-parallel-item::after {content: \"\";width: 100%;border-bottom: 1px solid gray;flex-grow: 1;}#sk-container-id-2 div.sk-label:hover label.sk-toggleable__label {background-color: #d4ebff;}#sk-container-id-2 div.sk-serial::before {content: \"\";position: absolute;border-left: 1px solid gray;box-sizing: border-box;top: 0;bottom: 0;left: 50%;z-index: 0;}#sk-container-id-2 div.sk-serial {display: flex;flex-direction: column;align-items: center;background-color: white;padding-right: 0.2em;padding-left: 0.2em;position: relative;}#sk-container-id-2 div.sk-item {position: relative;z-index: 1;}#sk-container-id-2 div.sk-parallel {display: flex;align-items: stretch;justify-content: center;background-color: white;position: relative;}#sk-container-id-2 div.sk-item::before, #sk-container-id-2 div.sk-parallel-item::before {content: \"\";position: absolute;border-left: 1px solid gray;box-sizing: border-box;top: 0;bottom: 0;left: 50%;z-index: -1;}#sk-container-id-2 div.sk-parallel-item {display: flex;flex-direction: column;z-index: 1;position: relative;background-color: white;}#sk-container-id-2 div.sk-parallel-item:first-child::after {align-self: flex-end;width: 50%;}#sk-container-id-2 div.sk-parallel-item:last-child::after {align-self: flex-start;width: 50%;}#sk-container-id-2 div.sk-parallel-item:only-child::after {width: 0;}#sk-container-id-2 div.sk-dashed-wrapped {border: 1px dashed gray;margin: 0 0.4em 0.5em 0.4em;box-sizing: border-box;padding-bottom: 0.4em;background-color: white;}#sk-container-id-2 div.sk-label label {font-family: monospace;font-weight: bold;display: inline-block;line-height: 1.2em;}#sk-container-id-2 div.sk-label-container {text-align: center;}#sk-container-id-2 div.sk-container {/* jupyter's `normalize.less` sets `[hidden] { display: none; }` but bootstrap.min.css set `[hidden] { display: none !important; }` so we also need the `!important` here to be able to override the default hidden behavior on the sphinx rendered scikit-learn.org. See: https://github.com/scikit-learn/scikit-learn/issues/21755 */display: inline-block !important;position: relative;}#sk-container-id-2 div.sk-text-repr-fallback {display: none;}</style><div id=\"sk-container-id-2\" class=\"sk-top-container\"><div class=\"sk-text-repr-fallback\"><pre>LogisticRegression(random_state=2019)</pre><b>In a Jupyter environment, please rerun this cell to show the HTML representation or trust the notebook. <br />On GitHub, the HTML representation is unable to render, please try loading this page with nbviewer.org.</b></div><div class=\"sk-container\" hidden><div class=\"sk-item\"><div class=\"sk-estimator sk-toggleable\"><input class=\"sk-toggleable__control sk-hidden--visually\" id=\"sk-estimator-id-2\" type=\"checkbox\" checked><label for=\"sk-estimator-id-2\" class=\"sk-toggleable__label sk-toggleable__label-arrow\">LogisticRegression</label><div class=\"sk-toggleable__content\"><pre>LogisticRegression(random_state=2019)</pre></div></div></div></div></div>"
      ],
      "text/plain": [
       "LogisticRegression(random_state=2019)"
      ]
     },
     "execution_count": 72,
     "metadata": {},
     "output_type": "execute_result"
    }
   ],
   "source": [
    "from sklearn.linear_model import LogisticRegression # импортируем саму модель\n",
    "\n",
    "#инициализируем модель\n",
    "model = LogisticRegression(random_state=2019, solver='lbfgs')\n",
    "\n",
    "#обучаем модель на полученных тренировочных данных и столбце с откликами\n",
    "model.fit(training, label)\n"
   ]
  },
  {
   "cell_type": "markdown",
   "id": "cc89be16",
   "metadata": {},
   "source": [
    "Перед выполнением задачи классификации, проведем оценку средней точности модели. Воспользуемся выборкой полученной из той же базы но не относящейся к интервалу на котором проводили обучение модели. \n",
    "\n",
    "__Для чего напишем следующий код:__\n",
    "\n",
    "_!код используется тот же что и в примере выше новая только выборка_"
   ]
  },
  {
   "cell_type": "code",
   "execution_count": 94,
   "id": "c689c9c6",
   "metadata": {},
   "outputs": [
    {
     "data": {
      "text/plain": [
       "0.8592233009708737"
      ]
     },
     "execution_count": 94,
     "metadata": {},
     "output_type": "execute_result"
    }
   ],
   "source": [
    "accuracy_data = pd.read_csv('u_t_3.csv')\n",
    "\n",
    "#этот массив будет содержать проверочные данные\n",
    "accuracy_training = np.zeros((len(accuracy_data), 8))\n",
    "\n",
    "#этот массив будет содержать проверочные отклики\n",
    "accuracy_label = np.zeros((len(accuracy_data),))\n",
    "\n",
    "#ниже проводим линейное нормирование всех проверочных данных\n",
    "accuracy_training[:, 0] = (accuracy_data['MIP'] - min(accuracy_data['MIP'])) / (max(accuracy_data['MIP']) - min(accuracy_data['MIP']))\n",
    "accuracy_training[:, 1] = (accuracy_data['STDIP'] - min(accuracy_data['STDIP'])) / (max(accuracy_data['STDIP']) - min(accuracy_data['STDIP']))\n",
    "accuracy_training[:, 2] = (accuracy_data['EKIP'] - min(accuracy_data['EKIP'])) / (max(accuracy_data['EKIP']) - min(accuracy_data['EKIP']))\n",
    "accuracy_training[:, 3] = (accuracy_data['SIP'] - min(accuracy_data['SIP'])) / (max(accuracy_data['SIP']) - min(accuracy_data['SIP']))\n",
    "accuracy_training[:, 4] = (accuracy_data['MC'] - min(accuracy_data['MC'])) / (max(accuracy_data['MC']) - min(accuracy_data['MC']))\n",
    "accuracy_training[:, 5] = (accuracy_data['STDC'] - min(accuracy_data['STDC'])) / (max(accuracy_data['STDC']) - min(accuracy_data['STDC']))\n",
    "accuracy_training[:, 6] = (accuracy_data['EKC'] - min(accuracy_data['EKC'])) / (max(accuracy_data['EKC']) - min(accuracy_data['EKC']))\n",
    "accuracy_training[:, 7] = (accuracy_data['SC'] - min(accuracy_data['SC'])) / (max(accuracy_data['SC']) - min(accuracy_data['SC']))\n",
    "\n",
    "#забираем из датафрейма столбец с откликами по которым ведеться классификация небесных тел в датасете\n",
    "accuracy_label[:] = accuracy_data['TARGET']\n",
    "\n",
    "#проводим рассчет точности модели\n",
    "training_accuracy = model.score(accuracy_training, accuracy_label)\n",
    "\n",
    "training_accuracy\n",
    "\n"
   ]
  },
  {
   "cell_type": "markdown",
   "id": "16cfe629",
   "metadata": {},
   "source": [
    "Полученное значение свидетельствует о высокой точности обученной модели. \n",
    "\n",
    "Используем обученную модель, для классификации следующих небесных тел их входные данные: [0.728, 0.568, 0.087, 0.183, 0.572, 0.91, 0.097, 0.429] и [0.058, 0.224, 0.63, 0.81, 0.85, 0.391, 0.896, 0.819], для чего напишем следующий код:"
   ]
  },
  {
   "cell_type": "code",
   "execution_count": 106,
   "id": "88e2bf99",
   "metadata": {},
   "outputs": [
    {
     "name": "stdout",
     "output_type": "stream",
     "text": [
      "x_test =  0.0\n",
      "x_test_2 =  1.0\n"
     ]
    }
   ],
   "source": [
    "x_test = np.array([[0.728, 0.568, 0.087, 0.183, 0.572, 0.91, 0.097, 0.429], [0.058, 0.224, 0.63, 0.81, 0.85, 0.391, 0.896, 0.819]])\n",
    "\n",
    "y_pred = model.predict(x_test)\n",
    "\n",
    "print('x_test = ', y_pred[0])\n",
    "print('x_test_2 = ', y_pred[1])"
   ]
  },
  {
   "cell_type": "markdown",
   "id": "0ca76292",
   "metadata": {},
   "source": [
    "Вышенаписанный код позволяет классифицировать новые объекты, методом логистической регрессии."
   ]
  },
  {
   "cell_type": "markdown",
   "id": "32010b33",
   "metadata": {},
   "source": [
    "# Метод K - ближайших соседей\n",
    "\n",
    "Метод k-ближайших соседей (k-nearest neighbors, KNN) является одним из простых и популярных алгоритмов машинного обучения для классификации и регрессии. Он основывается на принципе \"похожие объекты имеют похожие метки\".\n",
    "\n",
    "В основе метода KNN лежит следующий принцип работы:\n",
    "\n",
    "- Задается число соседей k, которые будут использоваться для классификации или регрессии.\n",
    "- Для нового примера данных, который требуется классифицировать или предсказать, находятся k ближайших соседей из обучающего набора данных.\n",
    "- Классификация: Если решается задача классификации, то класс примера данных определяется путем голосования большинства среди k ближайших соседей. То есть, класс, который встречается чаще всего среди k соседей, становится классом нового примера данных. \n",
    "- Регрессия: Если решается задача регрессии, то значение для нового примера данных предсказывается путем усреднения значений из k ближайших соседей.\n",
    "\n",
    "\n",
    "Для решения задачи классификации, данным методом, обучим модель KNeighborsClassifier. \n",
    "\n",
    "_На том же наборе данных содержащихся в массивах training, label._\n",
    "\n",
    "__Для чего напишем следующий код:__"
   ]
  },
  {
   "cell_type": "code",
   "execution_count": 111,
   "id": "486b8343",
   "metadata": {},
   "outputs": [
    {
     "data": {
      "text/html": [
       "<style>#sk-container-id-4 {color: black;}#sk-container-id-4 pre{padding: 0;}#sk-container-id-4 div.sk-toggleable {background-color: white;}#sk-container-id-4 label.sk-toggleable__label {cursor: pointer;display: block;width: 100%;margin-bottom: 0;padding: 0.3em;box-sizing: border-box;text-align: center;}#sk-container-id-4 label.sk-toggleable__label-arrow:before {content: \"▸\";float: left;margin-right: 0.25em;color: #696969;}#sk-container-id-4 label.sk-toggleable__label-arrow:hover:before {color: black;}#sk-container-id-4 div.sk-estimator:hover label.sk-toggleable__label-arrow:before {color: black;}#sk-container-id-4 div.sk-toggleable__content {max-height: 0;max-width: 0;overflow: hidden;text-align: left;background-color: #f0f8ff;}#sk-container-id-4 div.sk-toggleable__content pre {margin: 0.2em;color: black;border-radius: 0.25em;background-color: #f0f8ff;}#sk-container-id-4 input.sk-toggleable__control:checked~div.sk-toggleable__content {max-height: 200px;max-width: 100%;overflow: auto;}#sk-container-id-4 input.sk-toggleable__control:checked~label.sk-toggleable__label-arrow:before {content: \"▾\";}#sk-container-id-4 div.sk-estimator input.sk-toggleable__control:checked~label.sk-toggleable__label {background-color: #d4ebff;}#sk-container-id-4 div.sk-label input.sk-toggleable__control:checked~label.sk-toggleable__label {background-color: #d4ebff;}#sk-container-id-4 input.sk-hidden--visually {border: 0;clip: rect(1px 1px 1px 1px);clip: rect(1px, 1px, 1px, 1px);height: 1px;margin: -1px;overflow: hidden;padding: 0;position: absolute;width: 1px;}#sk-container-id-4 div.sk-estimator {font-family: monospace;background-color: #f0f8ff;border: 1px dotted black;border-radius: 0.25em;box-sizing: border-box;margin-bottom: 0.5em;}#sk-container-id-4 div.sk-estimator:hover {background-color: #d4ebff;}#sk-container-id-4 div.sk-parallel-item::after {content: \"\";width: 100%;border-bottom: 1px solid gray;flex-grow: 1;}#sk-container-id-4 div.sk-label:hover label.sk-toggleable__label {background-color: #d4ebff;}#sk-container-id-4 div.sk-serial::before {content: \"\";position: absolute;border-left: 1px solid gray;box-sizing: border-box;top: 0;bottom: 0;left: 50%;z-index: 0;}#sk-container-id-4 div.sk-serial {display: flex;flex-direction: column;align-items: center;background-color: white;padding-right: 0.2em;padding-left: 0.2em;position: relative;}#sk-container-id-4 div.sk-item {position: relative;z-index: 1;}#sk-container-id-4 div.sk-parallel {display: flex;align-items: stretch;justify-content: center;background-color: white;position: relative;}#sk-container-id-4 div.sk-item::before, #sk-container-id-4 div.sk-parallel-item::before {content: \"\";position: absolute;border-left: 1px solid gray;box-sizing: border-box;top: 0;bottom: 0;left: 50%;z-index: -1;}#sk-container-id-4 div.sk-parallel-item {display: flex;flex-direction: column;z-index: 1;position: relative;background-color: white;}#sk-container-id-4 div.sk-parallel-item:first-child::after {align-self: flex-end;width: 50%;}#sk-container-id-4 div.sk-parallel-item:last-child::after {align-self: flex-start;width: 50%;}#sk-container-id-4 div.sk-parallel-item:only-child::after {width: 0;}#sk-container-id-4 div.sk-dashed-wrapped {border: 1px dashed gray;margin: 0 0.4em 0.5em 0.4em;box-sizing: border-box;padding-bottom: 0.4em;background-color: white;}#sk-container-id-4 div.sk-label label {font-family: monospace;font-weight: bold;display: inline-block;line-height: 1.2em;}#sk-container-id-4 div.sk-label-container {text-align: center;}#sk-container-id-4 div.sk-container {/* jupyter's `normalize.less` sets `[hidden] { display: none; }` but bootstrap.min.css set `[hidden] { display: none !important; }` so we also need the `!important` here to be able to override the default hidden behavior on the sphinx rendered scikit-learn.org. See: https://github.com/scikit-learn/scikit-learn/issues/21755 */display: inline-block !important;position: relative;}#sk-container-id-4 div.sk-text-repr-fallback {display: none;}</style><div id=\"sk-container-id-4\" class=\"sk-top-container\"><div class=\"sk-text-repr-fallback\"><pre>KNeighborsClassifier()</pre><b>In a Jupyter environment, please rerun this cell to show the HTML representation or trust the notebook. <br />On GitHub, the HTML representation is unable to render, please try loading this page with nbviewer.org.</b></div><div class=\"sk-container\" hidden><div class=\"sk-item\"><div class=\"sk-estimator sk-toggleable\"><input class=\"sk-toggleable__control sk-hidden--visually\" id=\"sk-estimator-id-4\" type=\"checkbox\" checked><label for=\"sk-estimator-id-4\" class=\"sk-toggleable__label sk-toggleable__label-arrow\">KNeighborsClassifier</label><div class=\"sk-toggleable__content\"><pre>KNeighborsClassifier()</pre></div></div></div></div></div>"
      ],
      "text/plain": [
       "KNeighborsClassifier()"
      ]
     },
     "execution_count": 111,
     "metadata": {},
     "output_type": "execute_result"
    }
   ],
   "source": [
    "from sklearn.neighbors import KNeighborsClassifier\n",
    "\n",
    "# Создание и обучение модели\n",
    "model = KNeighborsClassifier(n_neighbors=5)  # Создание модели с параметром k=5\n",
    "model.fit(training, label)"
   ]
  },
  {
   "cell_type": "markdown",
   "id": "8bfd3a49",
   "metadata": {},
   "source": [
    "Итак, после проведенного обучения, проведем классификацию следующих небесных тел их входные данные: [0.728, 0.568, 0.087, 0.183, 0.572, 0.91, 0.097, 0.429] и [0.058, 0.224, 0.63, 0.81, 0.85, 0.391, 0.896, 0.819], для чего напишем следующий код:"
   ]
  },
  {
   "cell_type": "code",
   "execution_count": 110,
   "id": "4b3aca77",
   "metadata": {},
   "outputs": [
    {
     "name": "stdout",
     "output_type": "stream",
     "text": [
      "x_testKN =  0.0\n",
      "x_testKN_2 =  1.0\n"
     ]
    }
   ],
   "source": [
    "x_testKN = np.array([[0.728, 0.568, 0.087, 0.183, 0.572, 0.91, 0.097, 0.429], [0.058, 0.224, 0.63, 0.81, 0.85, 0.391, 0.896, 0.819]])\n",
    "\n",
    "# Прогнозирование классов для тестовой выборки\n",
    "y_predKN = model.predict(x_testKN)\n",
    "\n",
    "print('x_testKN = ', y_pred[0])\n",
    "print('x_testKN_2 = ', y_pred[1])\n"
   ]
  },
  {
   "cell_type": "markdown",
   "id": "524f09f4",
   "metadata": {},
   "source": [
    "Для дальнейшего анализа проведем расчет расстояния до близжайших соседей. Нахождение расстояния до ближайших соседей является ключевой частью алгоритма. Расстояние используется для определения близости между примерами данных и помогает классифицировать новый пример или предсказать его значение.\n",
    "\n",
    "Найдем значение дистанции от соседей, для чего __напишем следующий код:__"
   ]
  },
  {
   "cell_type": "code",
   "execution_count": 122,
   "id": "46d17ab7",
   "metadata": {},
   "outputs": [
    {
     "name": "stdout",
     "output_type": "stream",
     "text": [
      "[[157 190 129  96 171]\n",
      " [ 85  24  79  44  76]]\n"
     ]
    }
   ],
   "source": [
    "#находим дистанцию от соседей\n",
    "distances, indices = model.kneighbors(x_testKN)\n",
    "\n",
    "#выводим\n",
    "#print(distances) #дистанция\n",
    "print(indices) #индексы"
   ]
  },
  {
   "cell_type": "markdown",
   "id": "1020fea6",
   "metadata": {},
   "source": [
    "Если проверим индексы которые мы получили по двум небесным телам мы получим следующие значения:"
   ]
  },
  {
   "cell_type": "code",
   "execution_count": 124,
   "id": "f19296d6",
   "metadata": {},
   "outputs": [
    {
     "name": "stdout",
     "output_type": "stream",
     "text": [
      "Первое:\n",
      "0\n",
      "0\n",
      "Второе:\n",
      "1\n",
      "1\n"
     ]
    }
   ],
   "source": [
    "print ('Первое:')\n",
    "print (data['TARGET'][157])\n",
    "print (data['TARGET'][190])\n",
    "\n",
    "print ('Второе:')\n",
    "print (data['TARGET'][85])\n",
    "print (data['TARGET'][24])"
   ]
  },
  {
   "cell_type": "markdown",
   "id": "2f82eb62",
   "metadata": {},
   "source": [
    "Выведенные индексы подтверждают результат прогнозируемых классов для двух тестируемых тел."
   ]
  },
  {
   "cell_type": "markdown",
   "id": "0267097b",
   "metadata": {},
   "source": [
    "# Итог\n",
    "\n",
    "В рамках выполнения итоговой работы было выполненно следующее:\n",
    "1. Проведено описание столбцоы представленного датасета\n",
    "2. Определен тип данных каждого из столбцов\n",
    "3. Полученна выборка из совокупности хранящейся в БД\n",
    "4. Проведена предварительная визуализация полученной выборки в контексте ее деления по столбцу TARGET\n",
    "5. Проведена линейная нормировка данных\n",
    "6. Проведено обучение модели логистической регрессии\n",
    "7. Проведена оценка точности обученной модели на специально полученной выборке из той же БД\n",
    "8. Проведена классификация двух тел на обученной модели логистической регрессии\n",
    "9. Проведено обучение модели К-близжайших соседей\n",
    "10. Проведена классификация двух тел на основе обученной модели\n",
    "11. Проведен поиск близжайших соседей, который также подтвердил принадлежность двух тел к определенным классам"
   ]
  },
  {
   "cell_type": "code",
   "execution_count": null,
   "id": "8127a5c4",
   "metadata": {},
   "outputs": [],
   "source": []
  }
 ],
 "metadata": {
  "kernelspec": {
   "display_name": "Python 3 (ipykernel)",
   "language": "python",
   "name": "python3"
  },
  "language_info": {
   "codemirror_mode": {
    "name": "ipython",
    "version": 3
   },
   "file_extension": ".py",
   "mimetype": "text/x-python",
   "name": "python",
   "nbconvert_exporter": "python",
   "pygments_lexer": "ipython3",
   "version": "3.9.6"
  }
 },
 "nbformat": 4,
 "nbformat_minor": 5
}
